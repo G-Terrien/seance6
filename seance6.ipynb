{
 "cells": [
  {
   "cell_type": "markdown",
   "id": "38571254",
   "metadata": {},
   "source": [
    "# Séance 6 – Intelligence artificielle"
   ]
  },
  {
   "cell_type": "markdown",
   "id": "c92f6f05",
   "metadata": {},
   "source": [
    "## Exemple 0 : IA or not IA ? That is the question…"
   ]
  },
  {
   "cell_type": "code",
   "execution_count": null,
   "id": "88fffa28",
   "metadata": {},
   "outputs": [],
   "source": [
    "Pour chacune des propositions suivantes, dire si vous la qualifieriez :\n",
    "\n",
    "\ta) d’IA\t à coup sûr\t\tb) de non IA à coup sûr \tc) d’IA en quelques sortes\n",
    "\n",
    "\n",
    "Proposition 1 : un tableur qui calcule des sommes et d’autres fonctions pré-définies à partir de données.\n",
    "\n",
    "Proposition 2 : prédiction de l’évolution des prix d’une action cotée en bourse en ajustant sa courbe de prix aux données antérieures.\n",
    "\n",
    "Proposition 3 :un système de navigation GPS pour déterminer la route la plus rapide\n",
    "\n",
    "Proposition 4 : un système de recommandation de musiques comme Spotify qui fait des suggestions basée sur les choix antérieurs de l’utilisateur\n",
    "\n",
    "Proposition 5 : des solutions de stockage de type Big Data qui peuvent stocker d’énormes quantités de données (images et vidéos) et les diffuser simultanément à beaucoup d’utilisateurs\n",
    "\n",
    "Proposition 6 : des fonctionnalités d’édition de photos comme la luminosité et le contraste dans des logiciels comme Photoshop.\n",
    "\n",
    "Proposition 7 : des filtres de transfert de style dans des applications comme Prisma (https://www.youtube.com/watch?v=nd3392aj69Y) qui charge une photo et la transforme avec différent styles artistiques (impressionniste, cubiste,…)\n",
    "\n",
    "Proposition 8 : un programme comme Deep Blue qui a battu le champion Kasparov aux échecs en 1997"
   ]
  },
  {
   "cell_type": "markdown",
   "id": "c284c74e",
   "metadata": {},
   "source": [
    "## Exemple 1 : Réseaux de neurones : "
   ]
  },
  {
   "cell_type": "code",
   "execution_count": 8,
   "id": "847d9811",
   "metadata": {},
   "outputs": [
    {
     "data": {
      "text/html": [
       "\n",
       "<iframe width=\"800\" height=\"600\" src=\"https://pixees.fr/classcodeiai/app/tuto1/\" style=\"border: 1px solid black\"></iframe>\n"
      ],
      "text/plain": [
       "<IPython.core.display.HTML object>"
      ]
     },
     "execution_count": 8,
     "metadata": {},
     "output_type": "execute_result"
    }
   ],
   "source": [
    "import IPython.display as display\n",
    "fig = \"\"\"\n",
    "<iframe width=\"800\" height=\"600\" src=\"https://pixees.fr/classcodeiai/app/tuto1/\" style=\"border: 1px solid black\"></iframe>\n",
    "\"\"\"\n",
    "display.HTML(fig)"
   ]
  },
  {
   "cell_type": "markdown",
   "id": "54c813f6",
   "metadata": {},
   "source": [
    "## Exemple 2 : Les courbes d’ajustement : Python"
   ]
  },
  {
   "cell_type": "code",
   "execution_count": null,
   "id": "9d0a4975",
   "metadata": {},
   "outputs": [],
   "source": [
    "import matplotlib.pyplot as plt\n",
    "import numpy as np\n",
    "\n",
    "# récupération données\n",
    "x = list()\n",
    "y = list()\n",
    "\n",
    "# lecture du fichier\n",
    "with open(\"data/donnees.txt\", \"r\") as inp:\n",
    "    for line in inp:\n",
    "        xi, yi = line.split()\n",
    "        x.append(float(xi))\n",
    "        y.append(float(yi))\n",
    "\n",
    "# modélisation\n",
    "parametres = np.polyfit(x, y, 1)\n",
    "a, b = parametres\n",
    "print(\"équation : y=a*x+b\")\n",
    "print(\"a = {:8.3f}\\nb = {:8.3f}\".format(a, b))\n",
    "message = 'y=' + str(round(a,2)) + '*x' + '+' + str(round(b,2))\n",
    "\n",
    "#affichage\n",
    "plt.rcParams['figure.figsize'] = 8, 8 # ajuste la taille des figures\n",
    "plt.plot(x, y, \"bo\", label=\"donnees\") # les points (x, y) representes par des points\n",
    "plt.plot( # droite de regression\n",
    "    [x[0], x[-1]],                  # valeurs de x\n",
    "    [a * x[0] + b, a * x[-1] + b],  # valeurs de y\n",
    "    \"r-\",                           # couleur rouge avec un trait continu\n",
    "    label=\"régression\")             # legende\n",
    "plt.xlabel(\"x\") # nom de l'axe x\n",
    "plt.ylabel(\"y\") # nom de l'axe y\n",
    "plt.xlim(0, 20) # échelle axe x\n",
    "plt.legend() # la legende\n",
    "plt.title(\"Regression Lineaire\") # titre de graphique\n",
    "plt.text(0.5,12000,message)\n",
    "plt.show()"
   ]
  },
  {
   "cell_type": "markdown",
   "id": "de7bad4b",
   "metadata": {},
   "source": [
    "## Exemple 3 : Proche voisin : Géogébra"
   ]
  },
  {
   "cell_type": "code",
   "execution_count": 9,
   "id": "0907dce4",
   "metadata": {},
   "outputs": [
    {
     "data": {
      "text/html": [
       "\n",
       "<iframe width=\"800\" height=\"600\" src=\"https://www.geogebra.org/m/qp9hjzef\" style=\"border: 1px solid black\"></iframe>\n"
      ],
      "text/plain": [
       "<IPython.core.display.HTML object>"
      ]
     },
     "execution_count": 9,
     "metadata": {},
     "output_type": "execute_result"
    }
   ],
   "source": [
    "import IPython.display as display\n",
    "fig = \"\"\"\n",
    "<iframe width=\"800\" height=\"600\" src=\"https://www.geogebra.org/m/qp9hjzef\" style=\"border: 1px solid black\"></iframe>\n",
    "\"\"\"\n",
    "display.HTML(fig)"
   ]
  },
  {
   "cell_type": "markdown",
   "id": "4abc3985",
   "metadata": {},
   "source": [
    "## Exemple 4 : Twitch"
   ]
  },
  {
   "cell_type": "code",
   "execution_count": 10,
   "id": "8b3c7b11",
   "metadata": {},
   "outputs": [
    {
     "data": {
      "text/html": [
       "\n",
       "<iframe width=\"800\" height=\"600\" src=\"https://www.easyzoom.com/image/266533\" style=\"border: 1px solid black\"></iframe>\n"
      ],
      "text/plain": [
       "<IPython.core.display.HTML object>"
      ]
     },
     "execution_count": 10,
     "metadata": {},
     "output_type": "execute_result"
    }
   ],
   "source": [
    "import IPython.display as display\n",
    "fig = \"\"\"\n",
    "<iframe width=\"800\" height=\"600\" src=\"https://www.easyzoom.com/image/266533\" style=\"border: 1px solid black\"></iframe>\n",
    "\"\"\"\n",
    "display.HTML(fig)\n"
   ]
  },
  {
   "cell_type": "markdown",
   "id": "b7ae690d",
   "metadata": {},
   "source": [
    "## Exemple 5 : Manipulation d’une IA sur le jeux du bâton"
   ]
  },
  {
   "cell_type": "code",
   "execution_count": null,
   "id": "c83a70a8",
   "metadata": {
    "tags": []
   },
   "outputs": [],
   "source": [
    "from random import randint\n",
    "import random\n",
    "import numpy as np\n",
    "\n",
    "##### Définition du jeu #####\n",
    "\n",
    "class StickGame(object):\n",
    "    \"\"\"\n",
    "        StickGame.\n",
    "    \"\"\"\n",
    "\n",
    "    def __init__(self, nb):\n",
    "        # @nb Number of stick to play with\n",
    "        super(StickGame, self).__init__()\n",
    "        self.original_nb = nb\n",
    "        self.nb = nb\n",
    "\n",
    "    def is_finished(self):\n",
    "        # Check if the game is over @return Boolean\n",
    "        if self.nb <= 0:\n",
    "            return True\n",
    "        return False\n",
    "\n",
    "    def reset(self):\n",
    "        # Reset the state of the game\n",
    "        self.nb = self.original_nb\n",
    "        return self.nb\n",
    "\n",
    "    def display(self):\n",
    "        # Display the state of the game\n",
    "        print (\"| \" * self.nb)\n",
    "\n",
    "    def step(self, action):\n",
    "        # @action either 1, 2 or 3. Take an action into the environement\n",
    "        self.nb -= action\n",
    "        if self.nb <= 0:\n",
    "            return None, -1\n",
    "        else:\n",
    "            return self.nb, 0\n",
    "\n",
    "##### Définition des joueurs #####\n",
    "\n",
    "class StickPlayer(object):\n",
    "    \"\"\"\n",
    "        Stick Player\n",
    "    \"\"\"\n",
    "\n",
    "    def __init__(self, is_human, size, trainable=True):\n",
    "        # @nb Number of stick to play with\n",
    "        super(StickPlayer, self).__init__()\n",
    "        self.is_human = is_human\n",
    "        self.history = []\n",
    "        self.V = {}\n",
    "        for s in range(1, size+1):\n",
    "            self.V[s] = 0.\n",
    "        self.win_nb = 0.\n",
    "        self.lose_nb = 0.\n",
    "        self.rewards = []\n",
    "        self.eps = 0.99\n",
    "        self.trainable = trainable\n",
    "\n",
    "    def reset_stat(self):\n",
    "        # Reset stat\n",
    "        self.win_nb = 0\n",
    "        self.lose_nb = 0\n",
    "        self.rewards = []\n",
    "\n",
    "    def greedy_step(self, state):\n",
    "        # Greedy step\n",
    "        actions = [1, 2, 3]\n",
    "        vmin = None\n",
    "        vi = None\n",
    "        for i in range(0, 3):\n",
    "            a = actions[i]\n",
    "            if state - a > 0 and (vmin is None or vmin > self.V[state - a]):\n",
    "                vmin = self.V[state - a]\n",
    "                vi = i\n",
    "        return actions[vi if vi is not None else 1]\n",
    "\n",
    "    def play(self, state):\n",
    "        # PLay given the @state (int)\n",
    "        if self.is_human is False:\n",
    "            # Take random action\n",
    "            if random.uniform(0, 1) < self.eps:\n",
    "                action = randint(1, 3)\n",
    "            else: # Or greedy action\n",
    "                action = self.greedy_step(state)\n",
    "        else:\n",
    "            action = int(input(\"$>\"))\n",
    "        return action\n",
    "\n",
    "    def add_transition(self, n_tuple):\n",
    "        # Add one transition to the history: tuple (s, a , r, s')\n",
    "        self.history.append(n_tuple)\n",
    "        s, a, r, sp = n_tuple\n",
    "        self.rewards.append(r)\n",
    "\n",
    "    def train(self):\n",
    "        if not self.trainable or self.is_human is True:\n",
    "            return\n",
    "\n",
    "        # Update the value function if this player is not human\n",
    "        for transition in reversed(self.history):\n",
    "            s, a, r, sp = transition\n",
    "            if r == 0:\n",
    "                self.V[s] = self.V[s] + 0.001*(self.V[sp] - self.V[s])\n",
    "            else:\n",
    "                self.V[s] = self.V[s] + 0.001*(r - self.V[s])\n",
    "\n",
    "        self.history = []\n",
    "\n",
    "##### définition de la partie #####\n",
    "\n",
    "def play(game, p1, p2, train=True):\n",
    "    state = game.reset()\n",
    "    players = [p1, p2]\n",
    "    random.shuffle(players)\n",
    "    p = 0\n",
    "    while game.is_finished() is False:\n",
    "\n",
    "        if players[p%2].is_human:\n",
    "            game.display()\n",
    "\n",
    "        action = players[p%2].play(state)\n",
    "        n_state, reward = game.step(action)\n",
    "\n",
    "        #  Game is over. Ass stat\n",
    "        if (reward != 0):\n",
    "            # Update stat of the current player\n",
    "            players[p%2].lose_nb += 1. if reward == -1 else 0\n",
    "            players[p%2].win_nb += 1. if reward == 1 else 0\n",
    "            # Update stat of the other player\n",
    "            players[(p+1)%2].lose_nb += 1. if reward == 1 else 0\n",
    "            players[(p+1)%2].win_nb += 1. if reward == -1 else 0\n",
    "\n",
    "        # Add the reversed reward and the new state to the other player\n",
    "        if p != 0:\n",
    "            s, a, r, sp = players[(p+1)%2].history[-1]\n",
    "            players[(p+1)%2].history[-1] = (s, a, reward * -1, n_state)\n",
    "\n",
    "        players[p%2].add_transition((state, action, reward, None))\n",
    "\n",
    "        state = n_state\n",
    "        p += 1\n",
    "\n",
    "    if train:\n",
    "        p1.train()\n",
    "        p2.train()\n",
    "\n",
    "##### Programme principal #####\n",
    "\n",
    "if __name__ == '__main__':\n",
    "    game = StickGame(12)\n",
    "\n",
    "    # Joueur artificiel à entrainer\n",
    "    p1 = StickPlayer(is_human=False, size=12, trainable=True)\n",
    "    p2 = StickPlayer(is_human=False, size=12, trainable=True)\n",
    "    # Joueur humain et joueur articiel sans entrainement\n",
    "    human = StickPlayer(is_human=True, size=12, trainable=False)\n",
    "    random_player = StickPlayer(is_human=False, size=12, trainable=False)\n",
    "\n",
    "    # Entrainement des joueurs artificiels\n",
    "    # valeur à changer pour plus ou moins entrainer l'IA.\n",
    "    intelligence = 1000\n",
    "    for i in range(0, intelligence):\n",
    "        if i % 10 == 0:\n",
    "            p1.eps = max(p1.eps*0.996, 0.05)\n",
    "            p2.eps = max(p2.eps*0.996, 0.05)\n",
    "        play(game, p1, p2)\n",
    "    p1.reset_stat()\n",
    "\n",
    "    # joueur artificiel entraîné vs joueur artificiel non entraîné.\n",
    "    for _ in range(0, 1000):\n",
    "        play(game, p1, random_player, train=False)\n",
    "    print(\"p1 taux de victoire contre une IA simple\", p1.win_nb/(p1.win_nb + p1.lose_nb))\n",
    "    \n",
    "    print(\"--------------------------\")\n",
    "    \n",
    "    # joueur artificiel entraîné vs nous\n",
    "    while True:\n",
    "        play(game, p1, human, train=False)\n",
    "        print(\"votre taux de victoire\", human.win_nb/(human.win_nb + human.lose_nb))"
   ]
  },
  {
   "cell_type": "code",
   "execution_count": null,
   "id": "c586029a",
   "metadata": {},
   "outputs": [],
   "source": [
    "import session_info\n",
    "session_info.show()"
   ]
  },
  {
   "cell_type": "code",
   "execution_count": null,
   "id": "12cd895c-7f4d-4c76-8169-900a165dc266",
   "metadata": {},
   "outputs": [],
   "source": []
  }
 ],
 "metadata": {
  "kernelspec": {
   "display_name": "Python 3 (ipykernel)",
   "language": "python",
   "name": "python3"
  },
  "language_info": {
   "codemirror_mode": {
    "name": "ipython",
    "version": 3
   },
   "file_extension": ".py",
   "mimetype": "text/x-python",
   "name": "python",
   "nbconvert_exporter": "python",
   "pygments_lexer": "ipython3",
   "version": "3.9.6"
  }
 },
 "nbformat": 4,
 "nbformat_minor": 5
}
